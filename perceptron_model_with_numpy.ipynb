{
 "cells": [
  {
   "cell_type": "code",
   "execution_count": 40,
   "id": "5af82b67",
   "metadata": {},
   "outputs": [],
   "source": [
    "import numpy as np\n",
    "import matplotlib.pyplot as plt\n",
    "from sklearn.datasets import make_blobs\n",
    "from sklearn.metrics import accuracy_score"
   ]
  },
  {
   "cell_type": "code",
   "execution_count": 8,
   "id": "54552974",
   "metadata": {},
   "outputs": [
    {
     "data": {
      "image/png": "[encoded data removed]",
      "text/plain": [
       "<Figure size 432x288 with 1 Axes>"
      ]
     },
     "metadata": {
      "needs_background": "light"
     },
     "output_type": "display_data"
    }
   ],
   "source": [
    "X,y=make_blobs(n_samples=100,n_features=2,centers=2,random_state=0)\n",
    "y=y.reshape((y.shape[0],1))\n",
    "plt.scatter(X[:,0],X[:,1],c=y,cmap='summer')\n",
    "plt.show()"
   ]
  },
  {
   "cell_type": "code",
   "execution_count": 9,
   "id": "57204dad",
   "metadata": {},
   "outputs": [],
   "source": [
    "def initialisation(X):\n",
    "    W=np.random.randn(X.shape[1],1)\n",
    "    b=np.random.randn(1)\n",
    "    return W,b"
   ]
  },
  {
   "cell_type": "code",
   "execution_count": 11,
   "id": "85082958",
   "metadata": {},
   "outputs": [
    {
     "data": {
      "text/plain": [
       "array([0.64188815])"
      ]
     },
     "execution_count": 11,
     "metadata": {},
     "output_type": "execute_result"
    }
   ],
   "source": [
    "W,b=initialisation(X)\n",
    "W\n",
    "b"
   ]
  },
  {
   "cell_type": "code",
   "execution_count": 33,
   "id": "6351a4ae",
   "metadata": {},
   "outputs": [],
   "source": [
    "def model(X,W,b):\n",
    "    Z=X.dot(W)+b\n",
    "    A=1/(1+np.exp(-Z))\n",
    "    return A"
   ]
  },
  {
   "cell_type": "code",
   "execution_count": 15,
   "id": "5f51b83e",
   "metadata": {},
   "outputs": [
    {
     "name": "stdout",
     "output_type": "stream",
     "text": [
      "(100, 1)\n"
     ]
    }
   ],
   "source": [
    "Z,A=model(X,W,b)\n",
    "print(A.shape)"
   ]
  },
  {
   "cell_type": "code",
   "execution_count": 16,
   "id": "03a1827a",
   "metadata": {},
   "outputs": [],
   "source": [
    "def logloss(A,y):\n",
    "    return 1/len(y)*np.sum(-y*np.log(A)-(1-y)*np.log(1-A))"
   ]
  },
  {
   "cell_type": "code",
   "execution_count": 17,
   "id": "79dd25c7",
   "metadata": {},
   "outputs": [
    {
     "name": "stdout",
     "output_type": "stream",
     "text": [
      "1.4382928404823119\n"
     ]
    }
   ],
   "source": [
    "print(logloss(A,y))"
   ]
  },
  {
   "cell_type": "code",
   "execution_count": 20,
   "id": "56699330",
   "metadata": {},
   "outputs": [],
   "source": [
    "def gradient(A,X,y):\n",
    "    dw=1/len(y)*np.dot(X.T,A-y)\n",
    "    db=1/len(y)*np.sum(A-y)\n",
    "    return dw,db"
   ]
  },
  {
   "cell_type": "code",
   "execution_count": 38,
   "id": "3b724825",
   "metadata": {},
   "outputs": [],
   "source": [
    "def update(dw,db,W,b,learning_rate):\n",
    "    W=W-learning_rate*dw\n",
    "    b=b-learning_rate*db\n",
    "    return W,b"
   ]
  },
  {
   "cell_type": "code",
   "execution_count": 39,
   "id": "b0c54db5",
   "metadata": {},
   "outputs": [],
   "source": [
    "def predict(X,W,b):\n",
    "    A=model(X,W,b)\n",
    "    return A>0.5"
   ]
  },
  {
   "cell_type": "code",
   "execution_count": 41,
   "id": "84273479",
   "metadata": {},
   "outputs": [],
   "source": [
    "def artificial_neuron(X,y,learning_rate=0.1,nbre_iterations=100):\n",
    "    #initialisations de W,b\n",
    "    W,b=initialisation(X)\n",
    "    Loss=[]\n",
    "    for i in range(nbre_iterations):\n",
    "        A=model(X,W,b)\n",
    "        Loss.append(logloss(A,y))\n",
    "        dw,db=gradient(A,X,y)\n",
    "        W,b=update(dw,db,W,b,0.2)\n",
    "        \n",
    "    y_pred=predict(X,W,b)\n",
    "    print(accuracy_score(y_pred,y))\n",
    "    plt.plot(Loss)\n",
    "    plt.show()\n",
    "    "
   ]
  },
  {
   "cell_type": "code",
   "execution_count": 42,
   "id": "5c7ede2e",
   "metadata": {},
   "outputs": [
    {
     "name": "stdout",
     "output_type": "stream",
     "text": [
      "0.94\n"
     ]
    },
    {
     "data": {
      "image/png": "[encoded data removed]",
      "text/plain": [
       "<Figure size 432x288 with 1 Axes>"
      ]
     },
     "metadata": {
      "needs_background": "light"
     },
     "output_type": "display_data"
    }
   ],
   "source": [
    "artificial_neuron(X,y)\n"
   ]
  },
  {
   "cell_type": "code",
   "execution_count": null,
   "id": "3576176c",
   "metadata": {},
   "outputs": [],
   "source": []
  }
 ],
 "metadata": {
  "kernelspec": {
   "display_name": "Python 3 (ipykernel)",
   "language": "python",
   "name": "python3"
  },
  "language_info": {
   "codemirror_mode": {
    "name": "ipython",
    "version": 3
   },
   "file_extension": ".py",
   "mimetype": "text/x-python",
   "name": "python",
   "nbconvert_exporter": "python",
   "pygments_lexer": "ipython3",
   "version": "3.10.12"
  }
 },
 "nbformat": 4,
 "nbformat_minor": 5
}
